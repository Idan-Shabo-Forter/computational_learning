{
  "nbformat": 4,
  "nbformat_minor": 0,
  "metadata": {
    "colab": {
      "provenance": [],
      "gpuType": "T4",
      "include_colab_link": true
    },
    "kernelspec": {
      "name": "python3",
      "display_name": "Python 3"
    },
    "language_info": {
      "name": "python"
    },
    "accelerator": "GPU"
  },
  "cells": [
    {
      "cell_type": "markdown",
      "metadata": {
        "id": "view-in-github",
        "colab_type": "text"
      },
      "source": [
        "<a href=\"https://colab.research.google.com/github/idanshabo/computational_learning/blob/main/PS1_Part3_Autograd_2024_ID_318632312.ipynb\" target=\"_parent\"><img src=\"https://colab.research.google.com/assets/colab-badge.svg\" alt=\"Open In Colab\"/></a>"
      ]
    },
    {
      "cell_type": "markdown",
      "source": [
        "# PyTorch - Autograd (is what we need.)\n",
        "\n",
        "Advanced Learning 2024\n",
        "\n",
        "\n",
        "\n"
      ],
      "metadata": {
        "id": "sD1TdQ6sIkwb"
      }
    },
    {
      "cell_type": "markdown",
      "source": [],
      "metadata": {
        "id": "6fkKJP76I-Hu"
      }
    },
    {
      "cell_type": "markdown",
      "source": [
        "For SUBMISSION:  \n",
        "  \n",
        "Please upload the complete and executed `ipynb` to your git repository. Verify that all of your output can be viewed directly from github, and provide a link to that git file below.\n",
        "\n",
        "~~~\n",
        "STUDENT ID: 318632312\n",
        "~~~\n",
        "\n",
        "~~~\n",
        "STUDENT GIT LINK: https://github.com/idanshabo/computational_learning.git\n",
        "~~~\n",
        "\n",
        "In Addition, don't forget to add your ID to the files:  \n",
        "`PS1_Part3_Autograd_2024_ID_[318632312].html`  \n",
        "\n"
      ],
      "metadata": {
        "id": "LsLdJV3tzcEb"
      }
    },
    {
      "cell_type": "markdown",
      "source": [
        "This part of the problem-set is divided into 2 sections: (a) a short introduction to PyTorch autograd, and (b) some practice questions.      \n",
        "The practice questions cover calculating the gradients and updating the weights of a statistical model (linear regression), with and without PyTorch autograd."
      ],
      "metadata": {
        "id": "bpGvQkizUkAJ"
      }
    },
    {
      "cell_type": "markdown",
      "source": [
        "##  A Short Intro to PyTorch Autograd"
      ],
      "metadata": {
        "id": "tMu8INSVK6N3"
      }
    },
    {
      "cell_type": "markdown",
      "source": [
        "In PyTorch, autograd, short for automatic differentiation, is a core functionality that empowers you to efficiently calculate gradients during deep learning model training. It acts as a computational engine that automatically tracks the operations performed on your tensors and calculates the gradients of any loss function with respect to the model's learnable parameters.\n",
        "\n",
        "**Why is Autograd Important?**\n",
        "\n",
        "* Gradient Calculation: Deep learning relies heavily on gradient-based optimization algorithms like stochastic gradient descent (SGD). These algorithms adjust the weights and biases (learnable parameters) of your model based on the gradients of the loss function. Autograd automates this process, saving you from manually calculating complex derivatives.\n",
        "* Efficient Backpropagation: Backpropagation is the algorithm at the heart of training deep neural networks. It propagates the error (loss) backward through the network, allowing the model to adjust its parameters in the direction that minimizes the loss. Autograd streamlines this process, making training more efficient."
      ],
      "metadata": {
        "id": "xLMa2IKcIzWC"
      }
    },
    {
      "cell_type": "markdown",
      "source": [
        "**How Does Autograd Work?**\n",
        "\n",
        "* Tracking Operations: When you enable autograd mode (with `torch.autograd.record_grad()`), PyTorch creates a computational graph in the background. This graph tracks all the operations performed on your tensors\n",
        "\n",
        "* Backward Pass: Once you calculate a loss function (which typically depends on the output of your model), you can call the `backward()` method on the loss tensor. This triggers the backward pass through the computational graph.\n",
        "\n",
        "* Gradient Calculation: As the backward pass traverses the graph, autograd computes the gradients of the loss function with respect to each learnable parameter in the network. These gradients indicate how much a specific parameter contributed to the overall loss.\n",
        "\n",
        "* Parameter Update: By utilizing these gradients, optimization algorithms like SGD update the model's learnable parameters in a direction that minimizes the loss function. This iterative process continues until the model converges (achieves a desired level of performance).\n",
        "\n",
        "**Key Points about Autograd:**\n",
        "\n",
        "* Automatic\n",
        "* Only for Learnable Parameters: Autograd tracks gradients only for tensors that have `requires_grad=True`.\n",
        "* Dynamic vs. Static Graphs (Optional): PyTorch offers both dynamic computational graphs (eager execution) and static graphs (graph mode) for model development.\n",
        "\n"
      ],
      "metadata": {
        "id": "H0-iHMFVJ87I"
      }
    },
    {
      "cell_type": "code",
      "source": [
        "import time\n",
        "import numpy as np\n",
        "import pandas as pd\n",
        "import torch\n",
        "import math\n",
        "import matplotlib.pyplot as plt\n",
        "import seaborn as sns\n",
        "from torch.utils.data import DataLoader"
      ],
      "metadata": {
        "id": "yHpXMD96Mo7K"
      },
      "execution_count": 1,
      "outputs": []
    },
    {
      "cell_type": "code",
      "source": [
        "device = \"cuda\" if torch.cuda.is_available() else \"cpu\"\n",
        "torch.set_default_device(device)\n",
        "print(f\"Using {device}!\")"
      ],
      "metadata": {
        "colab": {
          "base_uri": "https://localhost:8080/"
        },
        "id": "d3FXn1y40muL",
        "outputId": "4efd5f68-7194-4f71-90dd-05a723082fbd"
      },
      "execution_count": 2,
      "outputs": [
        {
          "output_type": "stream",
          "name": "stdout",
          "text": [
            "Using cuda!\n"
          ]
        }
      ]
    },
    {
      "cell_type": "markdown",
      "source": [
        "##  0. Loading data and defining our model and loss"
      ],
      "metadata": {
        "id": "HvKljalBTVy0"
      }
    },
    {
      "cell_type": "markdown",
      "source": [
        "Load the California Housing Market dataset into a panda's DataFrame.  \n",
        "In addition, scale the data (why?)."
      ],
      "metadata": {
        "id": "dTVwaEhqPRC-"
      }
    },
    {
      "cell_type": "code",
      "source": [
        "# Import the dataset.\n",
        "cali_train_path = \"https://download.mlcc.google.com/mledu-datasets/california_housing_train.csv\"\n",
        "train_df = pd.read_csv(filepath_or_buffer=cali_train_path).drop(['longitude','latitude'],axis=1)\n",
        "train_df_norm=(train_df-train_df.mean(axis=0))/train_df.std(axis=0) # column-wise operators\n",
        "# Scale the labels:\n",
        "print(f\"Dataset dimension: {train_df_norm.shape}\")\n",
        "train_df_norm.head()"
      ],
      "metadata": {
        "colab": {
          "base_uri": "https://localhost:8080/",
          "height": 224
        },
        "id": "gEoX5S8uHv_l",
        "outputId": "f0d2bc78-be0d-4f7a-8b64-8e61a37b8642"
      },
      "execution_count": 3,
      "outputs": [
        {
          "output_type": "stream",
          "name": "stdout",
          "text": [
            "Dataset dimension: (17000, 7)\n"
          ]
        },
        {
          "output_type": "execute_result",
          "data": {
            "text/plain": [
              "   housing_median_age  total_rooms  total_bedrooms  population  households  \\\n",
              "0           -1.079639     1.361655        1.764152   -0.361173   -0.075996   \n",
              "1           -0.761850     2.296540        3.230346   -0.261858   -0.099401   \n",
              "2           -0.920744    -0.882436       -0.866931   -0.955326   -0.999223   \n",
              "3           -1.159087    -0.524171       -0.480216   -0.796769   -0.715753   \n",
              "4           -0.682402    -0.545731       -0.506313   -0.701809   -0.622130   \n",
              "\n",
              "   median_income  median_house_value  \n",
              "0      -1.252506           -1.210522  \n",
              "1      -1.081451           -1.096713  \n",
              "2      -1.170071           -1.048430  \n",
              "3      -0.362590           -1.154480  \n",
              "4      -1.026424           -1.222593  "
            ],
            "text/html": [
              "\n",
              "  <div id=\"df-525cbea2-b135-43dd-a17e-67a1fb26ed31\" class=\"colab-df-container\">\n",
              "    <div>\n",
              "<style scoped>\n",
              "    .dataframe tbody tr th:only-of-type {\n",
              "        vertical-align: middle;\n",
              "    }\n",
              "\n",
              "    .dataframe tbody tr th {\n",
              "        vertical-align: top;\n",
              "    }\n",
              "\n",
              "    .dataframe thead th {\n",
              "        text-align: right;\n",
              "    }\n",
              "</style>\n",
              "<table border=\"1\" class=\"dataframe\">\n",
              "  <thead>\n",
              "    <tr style=\"text-align: right;\">\n",
              "      <th></th>\n",
              "      <th>housing_median_age</th>\n",
              "      <th>total_rooms</th>\n",
              "      <th>total_bedrooms</th>\n",
              "      <th>population</th>\n",
              "      <th>households</th>\n",
              "      <th>median_income</th>\n",
              "      <th>median_house_value</th>\n",
              "    </tr>\n",
              "  </thead>\n",
              "  <tbody>\n",
              "    <tr>\n",
              "      <th>0</th>\n",
              "      <td>-1.079639</td>\n",
              "      <td>1.361655</td>\n",
              "      <td>1.764152</td>\n",
              "      <td>-0.361173</td>\n",
              "      <td>-0.075996</td>\n",
              "      <td>-1.252506</td>\n",
              "      <td>-1.210522</td>\n",
              "    </tr>\n",
              "    <tr>\n",
              "      <th>1</th>\n",
              "      <td>-0.761850</td>\n",
              "      <td>2.296540</td>\n",
              "      <td>3.230346</td>\n",
              "      <td>-0.261858</td>\n",
              "      <td>-0.099401</td>\n",
              "      <td>-1.081451</td>\n",
              "      <td>-1.096713</td>\n",
              "    </tr>\n",
              "    <tr>\n",
              "      <th>2</th>\n",
              "      <td>-0.920744</td>\n",
              "      <td>-0.882436</td>\n",
              "      <td>-0.866931</td>\n",
              "      <td>-0.955326</td>\n",
              "      <td>-0.999223</td>\n",
              "      <td>-1.170071</td>\n",
              "      <td>-1.048430</td>\n",
              "    </tr>\n",
              "    <tr>\n",
              "      <th>3</th>\n",
              "      <td>-1.159087</td>\n",
              "      <td>-0.524171</td>\n",
              "      <td>-0.480216</td>\n",
              "      <td>-0.796769</td>\n",
              "      <td>-0.715753</td>\n",
              "      <td>-0.362590</td>\n",
              "      <td>-1.154480</td>\n",
              "    </tr>\n",
              "    <tr>\n",
              "      <th>4</th>\n",
              "      <td>-0.682402</td>\n",
              "      <td>-0.545731</td>\n",
              "      <td>-0.506313</td>\n",
              "      <td>-0.701809</td>\n",
              "      <td>-0.622130</td>\n",
              "      <td>-1.026424</td>\n",
              "      <td>-1.222593</td>\n",
              "    </tr>\n",
              "  </tbody>\n",
              "</table>\n",
              "</div>\n",
              "    <div class=\"colab-df-buttons\">\n",
              "\n",
              "  <div class=\"colab-df-container\">\n",
              "    <button class=\"colab-df-convert\" onclick=\"convertToInteractive('df-525cbea2-b135-43dd-a17e-67a1fb26ed31')\"\n",
              "            title=\"Convert this dataframe to an interactive table.\"\n",
              "            style=\"display:none;\">\n",
              "\n",
              "  <svg xmlns=\"http://www.w3.org/2000/svg\" height=\"24px\" viewBox=\"0 -960 960 960\">\n",
              "    <path d=\"M120-120v-720h720v720H120Zm60-500h600v-160H180v160Zm220 220h160v-160H400v160Zm0 220h160v-160H400v160ZM180-400h160v-160H180v160Zm440 0h160v-160H620v160ZM180-180h160v-160H180v160Zm440 0h160v-160H620v160Z\"/>\n",
              "  </svg>\n",
              "    </button>\n",
              "\n",
              "  <style>\n",
              "    .colab-df-container {\n",
              "      display:flex;\n",
              "      gap: 12px;\n",
              "    }\n",
              "\n",
              "    .colab-df-convert {\n",
              "      background-color: #E8F0FE;\n",
              "      border: none;\n",
              "      border-radius: 50%;\n",
              "      cursor: pointer;\n",
              "      display: none;\n",
              "      fill: #1967D2;\n",
              "      height: 32px;\n",
              "      padding: 0 0 0 0;\n",
              "      width: 32px;\n",
              "    }\n",
              "\n",
              "    .colab-df-convert:hover {\n",
              "      background-color: #E2EBFA;\n",
              "      box-shadow: 0px 1px 2px rgba(60, 64, 67, 0.3), 0px 1px 3px 1px rgba(60, 64, 67, 0.15);\n",
              "      fill: #174EA6;\n",
              "    }\n",
              "\n",
              "    .colab-df-buttons div {\n",
              "      margin-bottom: 4px;\n",
              "    }\n",
              "\n",
              "    [theme=dark] .colab-df-convert {\n",
              "      background-color: #3B4455;\n",
              "      fill: #D2E3FC;\n",
              "    }\n",
              "\n",
              "    [theme=dark] .colab-df-convert:hover {\n",
              "      background-color: #434B5C;\n",
              "      box-shadow: 0px 1px 3px 1px rgba(0, 0, 0, 0.15);\n",
              "      filter: drop-shadow(0px 1px 2px rgba(0, 0, 0, 0.3));\n",
              "      fill: #FFFFFF;\n",
              "    }\n",
              "  </style>\n",
              "\n",
              "    <script>\n",
              "      const buttonEl =\n",
              "        document.querySelector('#df-525cbea2-b135-43dd-a17e-67a1fb26ed31 button.colab-df-convert');\n",
              "      buttonEl.style.display =\n",
              "        google.colab.kernel.accessAllowed ? 'block' : 'none';\n",
              "\n",
              "      async function convertToInteractive(key) {\n",
              "        const element = document.querySelector('#df-525cbea2-b135-43dd-a17e-67a1fb26ed31');\n",
              "        const dataTable =\n",
              "          await google.colab.kernel.invokeFunction('convertToInteractive',\n",
              "                                                    [key], {});\n",
              "        if (!dataTable) return;\n",
              "\n",
              "        const docLinkHtml = 'Like what you see? Visit the ' +\n",
              "          '<a target=\"_blank\" href=https://colab.research.google.com/notebooks/data_table.ipynb>data table notebook</a>'\n",
              "          + ' to learn more about interactive tables.';\n",
              "        element.innerHTML = '';\n",
              "        dataTable['output_type'] = 'display_data';\n",
              "        await google.colab.output.renderOutput(dataTable, element);\n",
              "        const docLink = document.createElement('div');\n",
              "        docLink.innerHTML = docLinkHtml;\n",
              "        element.appendChild(docLink);\n",
              "      }\n",
              "    </script>\n",
              "  </div>\n",
              "\n",
              "\n",
              "<div id=\"df-a0d7c623-c7c1-4a92-a95e-7efbea8a36f6\">\n",
              "  <button class=\"colab-df-quickchart\" onclick=\"quickchart('df-a0d7c623-c7c1-4a92-a95e-7efbea8a36f6')\"\n",
              "            title=\"Suggest charts\"\n",
              "            style=\"display:none;\">\n",
              "\n",
              "<svg xmlns=\"http://www.w3.org/2000/svg\" height=\"24px\"viewBox=\"0 0 24 24\"\n",
              "     width=\"24px\">\n",
              "    <g>\n",
              "        <path d=\"M19 3H5c-1.1 0-2 .9-2 2v14c0 1.1.9 2 2 2h14c1.1 0 2-.9 2-2V5c0-1.1-.9-2-2-2zM9 17H7v-7h2v7zm4 0h-2V7h2v10zm4 0h-2v-4h2v4z\"/>\n",
              "    </g>\n",
              "</svg>\n",
              "  </button>\n",
              "\n",
              "<style>\n",
              "  .colab-df-quickchart {\n",
              "      --bg-color: #E8F0FE;\n",
              "      --fill-color: #1967D2;\n",
              "      --hover-bg-color: #E2EBFA;\n",
              "      --hover-fill-color: #174EA6;\n",
              "      --disabled-fill-color: #AAA;\n",
              "      --disabled-bg-color: #DDD;\n",
              "  }\n",
              "\n",
              "  [theme=dark] .colab-df-quickchart {\n",
              "      --bg-color: #3B4455;\n",
              "      --fill-color: #D2E3FC;\n",
              "      --hover-bg-color: #434B5C;\n",
              "      --hover-fill-color: #FFFFFF;\n",
              "      --disabled-bg-color: #3B4455;\n",
              "      --disabled-fill-color: #666;\n",
              "  }\n",
              "\n",
              "  .colab-df-quickchart {\n",
              "    background-color: var(--bg-color);\n",
              "    border: none;\n",
              "    border-radius: 50%;\n",
              "    cursor: pointer;\n",
              "    display: none;\n",
              "    fill: var(--fill-color);\n",
              "    height: 32px;\n",
              "    padding: 0;\n",
              "    width: 32px;\n",
              "  }\n",
              "\n",
              "  .colab-df-quickchart:hover {\n",
              "    background-color: var(--hover-bg-color);\n",
              "    box-shadow: 0 1px 2px rgba(60, 64, 67, 0.3), 0 1px 3px 1px rgba(60, 64, 67, 0.15);\n",
              "    fill: var(--button-hover-fill-color);\n",
              "  }\n",
              "\n",
              "  .colab-df-quickchart-complete:disabled,\n",
              "  .colab-df-quickchart-complete:disabled:hover {\n",
              "    background-color: var(--disabled-bg-color);\n",
              "    fill: var(--disabled-fill-color);\n",
              "    box-shadow: none;\n",
              "  }\n",
              "\n",
              "  .colab-df-spinner {\n",
              "    border: 2px solid var(--fill-color);\n",
              "    border-color: transparent;\n",
              "    border-bottom-color: var(--fill-color);\n",
              "    animation:\n",
              "      spin 1s steps(1) infinite;\n",
              "  }\n",
              "\n",
              "  @keyframes spin {\n",
              "    0% {\n",
              "      border-color: transparent;\n",
              "      border-bottom-color: var(--fill-color);\n",
              "      border-left-color: var(--fill-color);\n",
              "    }\n",
              "    20% {\n",
              "      border-color: transparent;\n",
              "      border-left-color: var(--fill-color);\n",
              "      border-top-color: var(--fill-color);\n",
              "    }\n",
              "    30% {\n",
              "      border-color: transparent;\n",
              "      border-left-color: var(--fill-color);\n",
              "      border-top-color: var(--fill-color);\n",
              "      border-right-color: var(--fill-color);\n",
              "    }\n",
              "    40% {\n",
              "      border-color: transparent;\n",
              "      border-right-color: var(--fill-color);\n",
              "      border-top-color: var(--fill-color);\n",
              "    }\n",
              "    60% {\n",
              "      border-color: transparent;\n",
              "      border-right-color: var(--fill-color);\n",
              "    }\n",
              "    80% {\n",
              "      border-color: transparent;\n",
              "      border-right-color: var(--fill-color);\n",
              "      border-bottom-color: var(--fill-color);\n",
              "    }\n",
              "    90% {\n",
              "      border-color: transparent;\n",
              "      border-bottom-color: var(--fill-color);\n",
              "    }\n",
              "  }\n",
              "</style>\n",
              "\n",
              "  <script>\n",
              "    async function quickchart(key) {\n",
              "      const quickchartButtonEl =\n",
              "        document.querySelector('#' + key + ' button');\n",
              "      quickchartButtonEl.disabled = true;  // To prevent multiple clicks.\n",
              "      quickchartButtonEl.classList.add('colab-df-spinner');\n",
              "      try {\n",
              "        const charts = await google.colab.kernel.invokeFunction(\n",
              "            'suggestCharts', [key], {});\n",
              "      } catch (error) {\n",
              "        console.error('Error during call to suggestCharts:', error);\n",
              "      }\n",
              "      quickchartButtonEl.classList.remove('colab-df-spinner');\n",
              "      quickchartButtonEl.classList.add('colab-df-quickchart-complete');\n",
              "    }\n",
              "    (() => {\n",
              "      let quickchartButtonEl =\n",
              "        document.querySelector('#df-a0d7c623-c7c1-4a92-a95e-7efbea8a36f6 button');\n",
              "      quickchartButtonEl.style.display =\n",
              "        google.colab.kernel.accessAllowed ? 'block' : 'none';\n",
              "    })();\n",
              "  </script>\n",
              "</div>\n",
              "\n",
              "    </div>\n",
              "  </div>\n"
            ],
            "application/vnd.google.colaboratory.intrinsic+json": {
              "type": "dataframe",
              "variable_name": "train_df_norm",
              "summary": "{\n  \"name\": \"train_df_norm\",\n  \"rows\": 17000,\n  \"fields\": [\n    {\n      \"column\": \"housing_median_age\",\n      \"properties\": {\n        \"dtype\": \"number\",\n        \"std\": 1.0000000000000047,\n        \"min\": -2.191903636395038,\n        \"max\": 1.8599161251807146,\n        \"num_unique_values\": 52,\n        \"samples\": [\n          -0.44405981767608593,\n          1.8599161251807146,\n          1.4626788936536799\n        ],\n        \"semantic_type\": \"\",\n        \"description\": \"\"\n      }\n    },\n    {\n      \"column\": \"total_rooms\",\n      \"properties\": {\n        \"dtype\": \"number\",\n        \"std\": 1.0000000000000009,\n        \"min\": -1.211802087471894,\n        \"max\": 16.189996560198587,\n        \"num_unique_values\": 5533,\n        \"samples\": [\n          0.42218253841455,\n          1.9777248928168325,\n          1.2877998851432753\n        ],\n        \"semantic_type\": \"\",\n        \"description\": \"\"\n      }\n    },\n    {\n      \"column\": \"total_bedrooms\",\n      \"properties\": {\n        \"dtype\": \"number\",\n        \"std\": 1.0000000000000009,\n        \"min\": -1.2773701638551112,\n        \"max\": 14.010905955714168,\n        \"num_unique_values\": 1848,\n        \"samples\": [\n          0.44979697069585656,\n          0.4260721474190575,\n          3.6431581837530027\n        ],\n        \"semantic_type\": \"\",\n        \"description\": \"\"\n      }\n    },\n    {\n      \"column\": \"population\",\n      \"properties\": {\n        \"dtype\": \"number\",\n        \"std\": 1.0000000000000029,\n        \"min\": -1.2428194132295736,\n        \"max\": 29.840430157451234,\n        \"num_unique_values\": 3683,\n        \"samples\": [\n          -1.0285062487802483,\n          0.26608465516974145,\n          -1.040702932935901\n        ],\n        \"semantic_type\": \"\",\n        \"description\": \"\"\n      }\n    },\n    {\n      \"column\": \"households\",\n      \"properties\": {\n        \"dtype\": \"number\",\n        \"std\": 0.9999999999999959,\n        \"min\": -1.3008968254179223,\n        \"max\": 14.51359059342881,\n        \"num_unique_values\": 1740,\n        \"samples\": [\n          -0.2892481482379552,\n          1.5285987035584379,\n          2.2099661930729657\n        ],\n        \"semantic_type\": \"\",\n        \"description\": \"\"\n      }\n    },\n    {\n      \"column\": \"median_income\",\n      \"properties\": {\n        \"dtype\": \"number\",\n        \"std\": 1.000000000000005,\n        \"min\": -1.7732707287944638,\n        \"max\": 5.82579143425984,\n        \"num_unique_values\": 11175,\n        \"samples\": [\n          1.7723503640428904,\n          0.9148735353653924,\n          0.17955649691202696\n        ],\n        \"semantic_type\": \"\",\n        \"description\": \"\"\n      }\n    },\n    {\n      \"column\": \"median_house_value\",\n      \"properties\": {\n        \"dtype\": \"number\",\n        \"std\": 0.9999999999999987,\n        \"min\": -1.6580071647868375,\n        \"max\": 2.5236298303776925,\n        \"num_unique_values\": 3694,\n        \"samples\": [\n          -0.387993203968675,\n          1.2027466808315026,\n          -0.7811516795615644\n        ],\n        \"semantic_type\": \"\",\n        \"description\": \"\"\n      }\n    }\n  ]\n}"
            }
          },
          "metadata": {},
          "execution_count": 3
        }
      ]
    },
    {
      "cell_type": "markdown",
      "source": [
        "We define a linear model to fit the scaled median house value to our data:  \n",
        "\n",
        "**Our model :**.    \n",
        "\n",
        " $$\\text{median_house_value}_i=y_i = \\beta_0+\t\\beta_1\\text{housing_median_age}_i+ \t\\beta_2\\text{total_rooms}_i+ \t\\beta_3\\text{total_bedrooms}_i+ \t\\beta_4\\text{population}_i+ \t\\beta_5\\text{households}_i+ \t\\beta_6\\text{median_income}_i \t$$\n",
        "\n",
        "**Our loss :**  \n",
        "$$\n",
        "\\hat{L}_i(y_i,\\hat{y}_i) = MSE(\\text{y}_i,\\hat{\\text{y}}_i)\n",
        "$$\n"
      ],
      "metadata": {
        "id": "bVaPDR7AQomq"
      }
    },
    {
      "cell_type": "markdown",
      "source": [
        "## 1.  Manually Calculating the Gradients and Updating the Weights\n",
        "\n"
      ],
      "metadata": {
        "id": "Ohg3pW3pKbPH"
      }
    },
    {
      "cell_type": "markdown",
      "source": [
        "Here we take a step back, and implement forward and backward propogation manually (so we can fully appreciate the autograd later...)."
      ],
      "metadata": {
        "id": "OnZq3CEPG4_K"
      }
    },
    {
      "cell_type": "markdown",
      "source": [
        "First, create numpy arrays for our data (X) and target (Y):"
      ],
      "metadata": {
        "id": "Zlpam3w2QY8w"
      }
    },
    {
      "cell_type": "code",
      "source": [
        "X = train_df_norm.drop(['median_house_value'],axis=1).to_numpy()\n",
        "X =  np.c_[  np.ones(X.shape[0]), X ] # adding a column of \"1\"s for intercept\n",
        "Y = train_df_norm['median_house_value']\n",
        "\n",
        "print(f\"X dimension: {X.shape}\")\n",
        "print(f\"Y dimension: {Y.shape}\")"
      ],
      "metadata": {
        "colab": {
          "base_uri": "https://localhost:8080/"
        },
        "id": "S-7cJRcPaMoh",
        "outputId": "c8be92f9-e4c8-4233-a0b4-eebec2436b10"
      },
      "execution_count": 4,
      "outputs": [
        {
          "output_type": "stream",
          "name": "stdout",
          "text": [
            "X dimension: (17000, 7)\n",
            "Y dimension: (17000,)\n"
          ]
        }
      ]
    },
    {
      "cell_type": "markdown",
      "source": [
        "### 1.1 Calculating the weights analytically (15pts)\n",
        "Apply linear algebra operations to `X` and `Y` to analytically solve the linear regression problem (solve for `W`).   \n",
        "Please use only numpy. Round the weights to 3 decimal places.  "
      ],
      "metadata": {
        "id": "7ZbiF4BCVoTh"
      }
    },
    {
      "cell_type": "code",
      "source": [
        "#### SOLUTION REQUIRED ####\n",
        "t1 = time.time()\n",
        "\n",
        "# Prepare the data (X) and target (Y)\n",
        "X = train_df_norm.drop(['median_house_value'], axis=1).to_numpy()\n",
        "X = np.c_[np.ones(X.shape[0]), X]  # Adding the intercept term (a column of ones)\n",
        "Y = train_df_norm['median_house_value'].to_numpy()\n",
        "\n",
        "# Apply the Normal Equation to compute the weights\n",
        "X_transpose = X.T\n",
        "weights = np.linalg.inv(X_transpose @ X) @ X_transpose @ Y\n",
        "\n",
        "# Round the weights to 3 decimal places\n",
        "weights_rounded = weights.round(3)\n",
        "print(f\"Total process time: {round(time.time() - t1,3)}\")\n",
        "print(f\"The estimated weights using the analytic solution:\\n {weights_rounded.round(3)}\")"
      ],
      "metadata": {
        "id": "1axJ1nXAWNPB",
        "colab": {
          "base_uri": "https://localhost:8080/"
        },
        "outputId": "350a943d-5caf-4190-eee0-aacab66ca935"
      },
      "execution_count": 5,
      "outputs": [
        {
          "output_type": "stream",
          "name": "stdout",
          "text": [
            "Total process time: 0.013\n",
            "The estimated weights using the analytic solution:\n",
            " [ 0.     0.204 -0.375  0.362 -0.347  0.422  0.79 ]\n"
          ]
        }
      ]
    },
    {
      "cell_type": "markdown",
      "source": [
        "Visualizing the errors:"
      ],
      "metadata": {
        "id": "5CJITEi2jsY2"
      }
    },
    {
      "cell_type": "code",
      "source": [
        "# Plot the errors and density (sanity check):\n",
        "fig, (ax1,ax2) = plt.subplots(nrows=1, ncols=2,figsize=(10,4))\n",
        "error = (np.matmul( X, weights_rounded)-Y)\n",
        "ax1.scatter(range(Y.shape[0]), error ,s=0.05,alpha=0.7)\n",
        "ax1.set_title(\"The error of the predictions from the truth \")\n",
        "sns.kdeplot(error,ax=ax2)\n",
        "ax2.set_title(\"The density of the error\")\n",
        "fig.show()"
      ],
      "metadata": {
        "id": "NjV70_FqbfwL",
        "colab": {
          "base_uri": "https://localhost:8080/",
          "height": 359
        },
        "outputId": "894ae2ff-0779-41c7-99fc-cfa05727a0d5"
      },
      "execution_count": null,
      "outputs": [
        {
          "output_type": "display_data",
          "data": {
            "text/plain": [
              "<Figure size 1000x400 with 2 Axes>"
            ],
            "image/png": "[encoded data removed]"
          },
          "metadata": {}
        }
      ]
    },
    {
      "cell_type": "markdown",
      "source": [
        "### 1.2 Calculating the weights using numpy and gradient descent (30pts)"
      ],
      "metadata": {
        "id": "f7ui5id-YOy1"
      }
    },
    {
      "cell_type": "markdown",
      "source": [
        "Now you are ready to implement an algorithm that iteratively calculates the weights using numpy and gradient descent.\n",
        "\n",
        "Please fill in your code in the `### YOUR CODE HERE` sections in the code block below.   \n",
        "Please don't change the other parts of the code (unless specified).  \n",
        "\n",
        "An epoch in machine learning means one complete pass of the training dataset through the algorithm.   \n",
        "\n",
        "While developing your code, you may reduce the number of epochs.   \n",
        "However, for final output please use the pre-defined epochs number.      \n",
        "\n",
        "\n",
        "\n"
      ],
      "metadata": {
        "id": "b64HQDd5vfii"
      }
    },
    {
      "cell_type": "code",
      "source": [
        "t2 = time.time()\n",
        "\n",
        "# Randomly initialize weights using numpy\n",
        "b0 = np.random.randn()\n",
        "b1 = np.random.randn()\n",
        "b2 = np.random.randn()\n",
        "b3 = np.random.randn()\n",
        "b4 = np.random.randn()\n",
        "b5 = np.random.randn()\n",
        "b6 = np.random.randn()\n",
        "\n",
        "# Set learning rate (this can be a little fiddly, requires some tunning)\n",
        "# Tip: start with a very small steps...\n",
        "\n",
        "learning_rate = 0.01\n",
        "\n",
        "# Set number of epochs:\n",
        "epochs = int(5e3)\n",
        "\n",
        "# Loop through epochs, and apply gradient descent to update the weights:\n",
        "for t in range(epochs):\n",
        "    # Forward pass: compute predicted y\n",
        "    # y_pred = b0x0 + b1x1 + b2x2 + b3x3 + b4x4 + b5x5 + b6x6\n",
        "    Y_pred = b0 + b1 * X[:, 1] + b2 * X[:, 2] + b3 * X[:, 3] + b4 * X[:, 4] + b5 * X[:, 5] + b6 * X[:, 6]\n",
        "\n",
        "    # Compute and print loss\n",
        "    loss = np.mean((Y_pred - Y) ** 2)\n",
        "    if t % 1000 == 0:\n",
        "        print(f\"Epoch:{t}, loss:{loss}\")\n",
        "\n",
        "    # Backprop to compute gradients of betas with respect to loss\n",
        "    grad_y_pred = 2 * (Y_pred - Y)\n",
        "    grad_b0 = np.mean(grad_y_pred)\n",
        "    grad_b1 = np.mean(grad_y_pred * X[:, 1])\n",
        "    grad_b2 = np.mean(grad_y_pred * X[:, 2])\n",
        "    grad_b3 = np.mean(grad_y_pred * X[:, 3])\n",
        "    grad_b4 = np.mean(grad_y_pred * X[:, 4])\n",
        "    grad_b5 = np.mean(grad_y_pred * X[:, 5])\n",
        "    grad_b6 = np.mean(grad_y_pred * X[:, 6])\n",
        "\n",
        "    # Update weights\n",
        "    b0 -= learning_rate * grad_b0\n",
        "    b1 -= learning_rate * grad_b1\n",
        "    b2 -= learning_rate * grad_b2\n",
        "    b3 -= learning_rate * grad_b3\n",
        "    b4 -= learning_rate * grad_b4\n",
        "    b5 -= learning_rate * grad_b5\n",
        "    b6 -= learning_rate * grad_b6\n",
        "\n",
        "print(f\"Result: y_hat = {b0} x0 + {b1} x1 + {b2} x2 + {b3} x3\\n + {b4} x4 + {b5} x5 + {b6} x6 \\n\")\n",
        "print(f\"Total process time: {round(time.time() - t2,3)}\")\n",
        "\n",
        "weights_gd_rounded = np.array([b0,b1,b2,b3,b4,b5,b6])\n",
        "print(f\"The estimated weights using the gradient descent solution:\\n {weights_gd_rounded.round(3)}\")"
      ],
      "metadata": {
        "id": "ciPD0RXnQih0",
        "colab": {
          "base_uri": "https://localhost:8080/"
        },
        "outputId": "3ab80aa1-e10e-45ed-cf77-a397da01a204"
      },
      "execution_count": 6,
      "outputs": [
        {
          "output_type": "stream",
          "name": "stdout",
          "text": [
            "Epoch:0, loss:9.238691507592984\n",
            "Epoch:1000, loss:0.43801334969278477\n",
            "Epoch:2000, loss:0.4338123566852572\n",
            "Epoch:3000, loss:0.43151602073534034\n",
            "Epoch:4000, loss:0.43023729512803677\n",
            "Result: y_hat = 3.6106994279891584e-16 x0 + 0.20657540583815973 x1 + -0.4114429519062289 x2 + 0.5361102281355901 x3\n",
            " + -0.31410714154071373 x4 + 0.2528178005616241 x5 + 0.8014729550420256 x6 \n",
            "\n",
            "Total process time: 2.114\n",
            "The estimated weights using the gradient descent solution:\n",
            " [ 0.     0.207 -0.411  0.536 -0.314  0.253  0.801]\n"
          ]
        }
      ]
    },
    {
      "cell_type": "markdown",
      "source": [
        "### 1.3 Calculating the weights using PyTorch Tensors and gradient descent (25pts)"
      ],
      "metadata": {
        "id": "QqDJ3haFfRc5"
      }
    },
    {
      "cell_type": "markdown",
      "source": [
        "Here you are asked to implement the same manual gradient algorithm as above.  \n",
        "However, this time please use PyTorch tensors and operators (instead of numpy).  "
      ],
      "metadata": {
        "id": "oA46IpDHhhtp"
      }
    },
    {
      "cell_type": "code",
      "source": [
        "#### SOLUTION REQUIRED ####\n",
        "\n",
        "# Creating data and target tensors:\n",
        "tX = torch.tensor(X)\n",
        "tY = torch.tensor(Y)\n",
        "\n",
        "t3 = time.time()\n",
        "\n",
        "# Randomly initialize weights using PyTorch\n",
        "tb0 = torch.randn(1, requires_grad=True)\n",
        "tb1 = torch.randn(1, requires_grad=True)\n",
        "tb2 = torch.randn(1, requires_grad=True)\n",
        "tb3 = torch.randn(1, requires_grad=True)\n",
        "tb4 = torch.randn(1, requires_grad=True)\n",
        "tb5 = torch.randn(1, requires_grad=True)\n",
        "tb6 = torch.randn(1, requires_grad=True)\n",
        "\n",
        "# Set learning rate\n",
        "learning_rate = 0.01\n",
        "\n",
        "# Set number of epochs:\n",
        "epochs = int(5e3)\n",
        "\n",
        "# Loop through epochs, and apply gradient descent to update the weights:\n",
        "for t in range(epochs):\n",
        "    # Forward pass: compute predicted y\n",
        "    # y_pred = b0x0 + b1x1 + b2x2 + b3x3 + b4x4 + b5x5 + b6x6\n",
        "    tY_pred = tb0 + tb1 * tX[:, 0] + tb2 * tX[:, 1] + tb3 * tX[:, 2] + tb4 * tX[:, 3] + tb5 * tX[:, 4] + tb6 * tX[:, 5]\n",
        "    # Compute and print loss\n",
        "    loss = torch.mean((tY_pred - tY) ** 2)\n",
        "    if t % 1000 == 0:\n",
        "        print(f\"epoch:{t}, loss:{loss}\")\n",
        "\n",
        "    # Backprop to compute gradients of betas with respect to loss\n",
        "    grad_y_pred = 2 * (tY_pred - tY)\n",
        "    # print(grad_y_pred.sum())\n",
        "    grad_b0 = grad_y_pred.mean()\n",
        "    grad_b1 = (grad_y_pred * tX[:, 0]).mean()\n",
        "    grad_b2 = (grad_y_pred * tX[:, 1]).mean()\n",
        "    grad_b3 = (grad_y_pred * tX[:, 2]).mean()\n",
        "    grad_b4 = (grad_y_pred * tX[:, 3]).mean()\n",
        "    grad_b5 = (grad_y_pred * tX[:, 4]).mean()\n",
        "    grad_b6 = (grad_y_pred * tX[:, 5]).mean()\n",
        "\n",
        "    # Update weights\n",
        "    tb0 = tb0 - learning_rate * grad_b0\n",
        "    tb1 = tb1 - learning_rate * grad_b1\n",
        "    tb2 = tb2 - learning_rate * grad_b2\n",
        "    tb3 = tb3 - learning_rate * grad_b3\n",
        "    tb4 = tb4 - learning_rate * grad_b4\n",
        "    tb5 = tb5 - learning_rate * grad_b5\n",
        "    tb6 = tb6 - learning_rate * grad_b6\n",
        "\n",
        "print(f\"Result: y_hat = {tb0} x0 + {tb1} x1 + {tb2} x2 + {tb3} x3\\n + {tb4} x4 + {tb5} x5 + {tb6} x6 \\n\")\n",
        "print(f\"Total process time: {round(time.time() - t3,3)}\")\n",
        "\n",
        "weights_gd_tensors_rounded = np.array([tb0.item(),tb1.item(),tb2.item(),tb3.item(),\n",
        "                                       tb4.item(),tb5.item(),tb6.item()])\n",
        "print(f\"The estimated weights using the gradient descent on tensors:\\n {weights_gd_tensors_rounded.round(3)}\")"
      ],
      "metadata": {
        "id": "8OzIvT-4grTG",
        "colab": {
          "base_uri": "https://localhost:8080/"
        },
        "outputId": "4b7c9d1e-3194-44d2-cd11-07d6c1004950"
      },
      "execution_count": 10,
      "outputs": [
        {
          "output_type": "stream",
          "name": "stdout",
          "text": [
            "epoch:0, loss:12.424009380595967\n",
            "epoch:1000, loss:0.890322901685825\n",
            "epoch:2000, loss:0.8647305746933652\n",
            "epoch:3000, loss:0.8534466560317345\n",
            "epoch:4000, loss:0.8475484938491094\n",
            "Result: y_hat = tensor([-0.2588], device='cuda:0', grad_fn=<SubBackward0>) x0 + tensor([0.2588], device='cuda:0', grad_fn=<SubBackward0>) x1 + tensor([0.1790], device='cuda:0', grad_fn=<SubBackward0>) x2 + tensor([0.8279], device='cuda:0', grad_fn=<SubBackward0>) x3\n",
            " + tensor([-0.7453], device='cuda:0', grad_fn=<SubBackward0>) x4 + tensor([-0.5896], device='cuda:0', grad_fn=<SubBackward0>) x5 + tensor([0.6163], device='cuda:0', grad_fn=<SubBackward0>) x6 \n",
            "\n",
            "Total process time: 5.742\n",
            "The estimated weights using the gradient descent on tensors:\n",
            " [-0.259  0.259  0.179  0.828 -0.745 -0.59   0.616]\n"
          ]
        }
      ]
    },
    {
      "cell_type": "markdown",
      "source": [
        "### 1.4 Calculating the weights using PyTorch Autograd! (15pts)"
      ],
      "metadata": {
        "id": "tn3kGGIb0LQT"
      }
    },
    {
      "cell_type": "markdown",
      "source": [
        "Lastly, you can finally make a full transition to PyTorch autograd framework.   \n",
        "Please replace your manual gradient calculations with PyTorch's automatic gradient tracking.   \n",
        "In addition, instead of declaring the parameters separately, we will use one tensor to represent all of the model's parameters.  "
      ],
      "metadata": {
        "id": "oSN0J3UriRwA"
      }
    },
    {
      "cell_type": "code",
      "source": [
        "t4 = time.time()\n",
        "\n",
        "# Randomly initialize weights using PyTorch\n",
        "# we can use 1x7 tensor for all the weights. Make sure `requires_grad = True`.\n",
        "tb = torch.randn(7, requires_grad=True, device=device)\n",
        "tX = tX.to(torch.float32)\n",
        "\n",
        "# Set learning rate\n",
        "learning_rate = 1e-5\n",
        "# Set number of epochs:\n",
        "epochs = int(5e3)\n",
        "\n",
        "# Loop through epochs, and apply gradient descent to update the weights:\n",
        "for t in range(epochs):\n",
        "\n",
        "    # Forward pass: compute predicted y\n",
        "    #tY_pred = torch.matmul(tX, tb)\n",
        "    tY_pred = torch.matmul(tX, tb)\n",
        "\n",
        "    # Compute and print loss\n",
        "    loss = ((tY_pred - tY) ** 2).mean()\n",
        "    if t % 1000 == 0:\n",
        "        print(f\"epoch:{t}, loss:{loss.item()}\")\n",
        "\n",
        "    # Backprop to compute gradients of betas with respect to loss\n",
        "    loss.backward()\n",
        "\n",
        "    with torch.no_grad():\n",
        "        # Update weights\n",
        "        tb -= learning_rate * tb.grad\n",
        "        tb.grad = None # manually clear gradient after update\n",
        "\n",
        "\n",
        "print(f\"Result: betas = {tb} \\n\")\n",
        "print(f\"Total process time: {round(time.time() - t4,3)}\")\n",
        "\n",
        "weights_autograd_rounded = tb.cpu().detach().numpy()\n",
        "print(f\"The estimated weights using the pytorch autograd:\\n {weights_autograd_rounded.round(3)}\")"
      ],
      "metadata": {
        "id": "nF_vyqlO1Ya7",
        "colab": {
          "base_uri": "https://localhost:8080/"
        },
        "outputId": "e2d23974-f393-4c3b-f16e-6eeba8f353b7"
      },
      "execution_count": 8,
      "outputs": [
        {
          "output_type": "stream",
          "name": "stdout",
          "text": [
            "epoch:0, loss:4.542358091896304\n",
            "epoch:1000, loss:4.040608091201772\n",
            "epoch:2000, loss:3.6081659633125027\n",
            "epoch:3000, loss:3.2351686750894713\n",
            "epoch:4000, loss:2.9131662460759484\n",
            "Result: betas = tensor([-0.1488,  0.8490, -0.5222, -0.8030,  0.2005,  0.2721,  0.2578],\n",
            "       device='cuda:0', requires_grad=True) \n",
            "\n",
            "Total process time: 3.474\n",
            "The estimated weights using the pytorch autograd:\n",
            " [-0.149  0.849 -0.522 -0.803  0.2    0.272  0.258]\n"
          ]
        }
      ]
    },
    {
      "cell_type": "markdown",
      "source": [
        "### 1.5 Conclusion (15pts)"
      ],
      "metadata": {
        "id": "vVruKYunlbNJ"
      }
    },
    {
      "cell_type": "markdown",
      "source": [
        "1. Which method is the most accurate in finding the \"true\" weights? Why? Is it always applicabale? Hint - you should think about it from a statistical theory point of view.\n",
        "2. Why did we scale the data ?  (answer with respect to the model/algorithm)\n",
        "3. Do you think our model specification produced good results?  Why or why not? Justify your answer.\n",
        "4. What can you say about the total process times between methods?\n",
        "5. Can you suggest some improvements to the model definition?\n",
        "6. Can you suggest some improvements to the solution algorithm?"
      ],
      "metadata": {
        "id": "teXbcts-lelv"
      }
    },
    {
      "cell_type": "markdown",
      "source": [
        "YOUR ANSWERS HERE\n",
        "\n",
        "1. The analytic solution (first method) is the most accurate in finding the \"true\" weights because it directly solves the normal equations (X'X)^(-1)X'y to minimize the sum of squared residuals globally. This provides the exact solution in one step, while gradient descent methods may converge to local minima and require iterative optimization. However, the analytic solution is not always applicable because:\n",
        "\n",
        "  - It requires computing the inverse of X'X which is computationally expensive for large datasets\n",
        "  - It requires holding the entire design matrix in memory\n",
        "  - It doesn't work for non-linear models\n",
        "\n",
        "  among the gd methods, the numpy solution got the best results. unfortunatly, this method is also not always applicable because it is not efficient enough in computation - in large datasets this calculation will just take too long.\n",
        "2. The data was scaled (normalized) for several important reasons:\n",
        "  - To prevent numerical instability during optimization\n",
        "  - To put all features on the same scale so gradient descent converges more efficiently\n",
        "  - To avoid features with larger magnitudes dominating the optimization\n",
        "\n",
        "3. The model produced reasonabl results, though there was room for improvement.\n",
        "\n",
        "  The final loss values converged to relatively small numbers, the loss decreased between different iterations and the weights found by different methods were generally consistent in direction/magnitude. Maybe tuning the hyperparameters, for an example - different starting weights could lead to convergence to a global maximum rather then local maximum which would have improved the results.\n",
        "\n",
        "4. Regarding process times:\n",
        "\n",
        "  - Analytic solution was fastest at ~0.013s\n",
        "  - NumPy gradient descent took ~2.1s\n",
        "  - PyTorch tensor implementation took ~5.7s\n",
        "  - PyTorch autograd took ~3.5s\n",
        "\n",
        "  The analytic solution is much faster since it doesn't require iterations. The PyTorch implementations have some overhead but provide flexibility for more complex models. probably the more complex the model and computatio will be, we will see an advantage for using the autograd method over the numpy one, even though currently we can't see it in the data.\n",
        "5. Potential model improvements:\n",
        "\n",
        "  - Add non-linear feature transformations\n",
        "  - Try regularization to prevent overfitting\n",
        "  - Use cross-validation to evaluate generalization\n",
        "  - Test different model architectures (e.g. polynomial regression)\n",
        "6. Algorithm improvements:\n",
        "\n",
        "  - Implement mini-batch gradient descent for better efficiency and faster convergence\n",
        "  - Try different initialization strategies for weights"
      ],
      "metadata": {
        "id": "8x3MTup5lt9B"
      }
    },
    {
      "cell_type": "markdown",
      "source": [
        "PART 2: Coming soon..."
      ],
      "metadata": {
        "id": "GVoUSVc2pCxM"
      }
    }
  ]
}